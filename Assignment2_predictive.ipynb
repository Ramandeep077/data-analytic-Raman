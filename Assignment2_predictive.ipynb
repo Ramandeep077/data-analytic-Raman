{
  "nbformat": 4,
  "nbformat_minor": 0,
  "metadata": {
    "colab": {
      "provenance": [],
      "authorship_tag": "ABX9TyNn9ku2uGMC7fDgx1ITgL1Q",
      "include_colab_link": true
    },
    "kernelspec": {
      "name": "python3",
      "display_name": "Python 3"
    },
    "language_info": {
      "name": "python"
    }
  },
  "cells": [
    {
      "cell_type": "markdown",
      "metadata": {
        "id": "view-in-github",
        "colab_type": "text"
      },
      "source": [
        "<a href=\"https://colab.research.google.com/github/Ramandeep077/data-analytic-Raman/blob/main/Assignment2_predictive.ipynb\" target=\"_parent\"><img src=\"https://colab.research.google.com/assets/colab-badge.svg\" alt=\"Open In Colab\"/></a>"
      ]
    },
    {
      "cell_type": "code",
      "execution_count": null,
      "metadata": {
        "id": "VcMjmOVtoB2f"
      },
      "outputs": [],
      "source": [
        "import numpy as np\n",
        "import pandas as pd\n",
        "from sklearn.neighbors import KNeighborsClassifier\n",
        "from sklearn.model_selection import train_test_split\n",
        "from sklearn.tree import DecisionTreeClassifier\n",
        "from sklearn.metrics import accuracy_score, precision_score, recall_score, f1_score\n",
        "from sklearn.model_selection import train_test_split\n",
        "\n",
        "from sklearn.metrics import f1_score\n",
        "\n",
        "from sklearn.metrics import accuracy_score\n",
        "from sklearn.metrics import confusion_matrix\n",
        "from sklearn.metrics import recall_score\n",
        "from sklearn.metrics import accuracy_score\n",
        "from sklearn.metrics import precision_score\n",
        "from sklearn.metrics import confusion_matrix\n",
        "from sklearn.metrics import recall_score\n",
        "from sklearn.preprocessing import LabelEncoder # usually uses this label encoder to convert binary categories to number\n",
        "import matplotlib.pyplot as plt\n",
        "from sklearn.model_selection import train_test_split\n",
        "import seaborn as sns\n",
        "from sklearn.impute import SimpleImputer\n",
        "import plotly.express as px\n",
        "from plotly.offline import iplot, plot\n",
        "from plotly.subplots import make_subplots\n",
        "\n",
        "import warnings\n",
        "warnings.filterwarnings('ignore')"
      ]
    },
    {
      "cell_type": "code",
      "source": [
        "from google.colab import drive\n",
        "drive.mount('/content/drive')"
      ],
      "metadata": {
        "colab": {
          "base_uri": "https://localhost:8080/"
        },
        "id": "D06WCMhNij9L",
        "outputId": "0cd2b5cf-aae9-4aa5-beed-0d437d0fd9c8"
      },
      "execution_count": null,
      "outputs": [
        {
          "output_type": "stream",
          "name": "stdout",
          "text": [
            "Drive already mounted at /content/drive; to attempt to forcibly remount, call drive.mount(\"/content/drive\", force_remount=True).\n"
          ]
        }
      ]
    },
    {
      "cell_type": "markdown",
      "source": [],
      "metadata": {
        "id": "9INIpasnp_Ui"
      }
    },
    {
      "cell_type": "code",
      "source": [
        "dataset = pd.read_csv('/content/drive/MyDrive/Predictive/heart_disease_uci.csv')"
      ],
      "metadata": {
        "id": "tNJwbg5Riuas"
      },
      "execution_count": null,
      "outputs": []
    },
    {
      "cell_type": "code",
      "source": [
        "dataset"
      ],
      "metadata": {
        "colab": {
          "base_uri": "https://localhost:8080/",
          "height": 423
        },
        "id": "zb7fAsbM1nue",
        "outputId": "776a751e-4ee6-4bcb-be3e-7854d75f8838"
      },
      "execution_count": null,
      "outputs": [
        {
          "output_type": "execute_result",
          "data": {
            "text/plain": [
              "      id  age     sex        dataset               cp  trestbps   chol    fbs  \\\n",
              "0      1   63    Male      Cleveland   typical angina     145.0  233.0   True   \n",
              "1      2   67    Male      Cleveland     asymptomatic     160.0  286.0  False   \n",
              "2      3   67    Male      Cleveland     asymptomatic     120.0  229.0  False   \n",
              "3      4   37    Male      Cleveland      non-anginal     130.0  250.0  False   \n",
              "4      5   41  Female      Cleveland  atypical angina     130.0  204.0  False   \n",
              "..   ...  ...     ...            ...              ...       ...    ...    ...   \n",
              "915  916   54  Female  VA Long Beach     asymptomatic     127.0  333.0   True   \n",
              "916  917   62    Male  VA Long Beach   typical angina       NaN  139.0  False   \n",
              "917  918   55    Male  VA Long Beach     asymptomatic     122.0  223.0   True   \n",
              "918  919   58    Male  VA Long Beach     asymptomatic       NaN  385.0   True   \n",
              "919  920   62    Male  VA Long Beach  atypical angina     120.0  254.0  False   \n",
              "\n",
              "              restecg  thalch  exang  oldpeak        slope   ca  \\\n",
              "0      lv hypertrophy   150.0  False      2.3  downsloping  0.0   \n",
              "1      lv hypertrophy   108.0   True      1.5         flat  3.0   \n",
              "2      lv hypertrophy   129.0   True      2.6         flat  2.0   \n",
              "3              normal   187.0  False      3.5  downsloping  0.0   \n",
              "4      lv hypertrophy   172.0  False      1.4    upsloping  0.0   \n",
              "..                ...     ...    ...      ...          ...  ...   \n",
              "915  st-t abnormality   154.0  False      0.0          NaN  NaN   \n",
              "916  st-t abnormality     NaN    NaN      NaN          NaN  NaN   \n",
              "917  st-t abnormality   100.0  False      0.0          NaN  NaN   \n",
              "918    lv hypertrophy     NaN    NaN      NaN          NaN  NaN   \n",
              "919    lv hypertrophy    93.0   True      0.0          NaN  NaN   \n",
              "\n",
              "                  thal  num  \n",
              "0         fixed defect    0  \n",
              "1               normal    2  \n",
              "2    reversable defect    1  \n",
              "3               normal    0  \n",
              "4               normal    0  \n",
              "..                 ...  ...  \n",
              "915                NaN    1  \n",
              "916                NaN    0  \n",
              "917       fixed defect    2  \n",
              "918                NaN    0  \n",
              "919                NaN    1  \n",
              "\n",
              "[920 rows x 16 columns]"
            ],
            "text/html": [
              "\n",
              "  <div id=\"df-e2952782-b347-4a09-af48-0a55a9a9ff06\" class=\"colab-df-container\">\n",
              "    <div>\n",
              "<style scoped>\n",
              "    .dataframe tbody tr th:only-of-type {\n",
              "        vertical-align: middle;\n",
              "    }\n",
              "\n",
              "    .dataframe tbody tr th {\n",
              "        vertical-align: top;\n",
              "    }\n",
              "\n",
              "    .dataframe thead th {\n",
              "        text-align: right;\n",
              "    }\n",
              "</style>\n",
              "<table border=\"1\" class=\"dataframe\">\n",
              "  <thead>\n",
              "    <tr style=\"text-align: right;\">\n",
              "      <th></th>\n",
              "      <th>id</th>\n",
              "      <th>age</th>\n",
              "      <th>sex</th>\n",
              "      <th>dataset</th>\n",
              "      <th>cp</th>\n",
              "      <th>trestbps</th>\n",
              "      <th>chol</th>\n",
              "      <th>fbs</th>\n",
              "      <th>restecg</th>\n",
              "      <th>thalch</th>\n",
              "      <th>exang</th>\n",
              "      <th>oldpeak</th>\n",
              "      <th>slope</th>\n",
              "      <th>ca</th>\n",
              "      <th>thal</th>\n",
              "      <th>num</th>\n",
              "    </tr>\n",
              "  </thead>\n",
              "  <tbody>\n",
              "    <tr>\n",
              "      <th>0</th>\n",
              "      <td>1</td>\n",
              "      <td>63</td>\n",
              "      <td>Male</td>\n",
              "      <td>Cleveland</td>\n",
              "      <td>typical angina</td>\n",
              "      <td>145.0</td>\n",
              "      <td>233.0</td>\n",
              "      <td>True</td>\n",
              "      <td>lv hypertrophy</td>\n",
              "      <td>150.0</td>\n",
              "      <td>False</td>\n",
              "      <td>2.3</td>\n",
              "      <td>downsloping</td>\n",
              "      <td>0.0</td>\n",
              "      <td>fixed defect</td>\n",
              "      <td>0</td>\n",
              "    </tr>\n",
              "    <tr>\n",
              "      <th>1</th>\n",
              "      <td>2</td>\n",
              "      <td>67</td>\n",
              "      <td>Male</td>\n",
              "      <td>Cleveland</td>\n",
              "      <td>asymptomatic</td>\n",
              "      <td>160.0</td>\n",
              "      <td>286.0</td>\n",
              "      <td>False</td>\n",
              "      <td>lv hypertrophy</td>\n",
              "      <td>108.0</td>\n",
              "      <td>True</td>\n",
              "      <td>1.5</td>\n",
              "      <td>flat</td>\n",
              "      <td>3.0</td>\n",
              "      <td>normal</td>\n",
              "      <td>2</td>\n",
              "    </tr>\n",
              "    <tr>\n",
              "      <th>2</th>\n",
              "      <td>3</td>\n",
              "      <td>67</td>\n",
              "      <td>Male</td>\n",
              "      <td>Cleveland</td>\n",
              "      <td>asymptomatic</td>\n",
              "      <td>120.0</td>\n",
              "      <td>229.0</td>\n",
              "      <td>False</td>\n",
              "      <td>lv hypertrophy</td>\n",
              "      <td>129.0</td>\n",
              "      <td>True</td>\n",
              "      <td>2.6</td>\n",
              "      <td>flat</td>\n",
              "      <td>2.0</td>\n",
              "      <td>reversable defect</td>\n",
              "      <td>1</td>\n",
              "    </tr>\n",
              "    <tr>\n",
              "      <th>3</th>\n",
              "      <td>4</td>\n",
              "      <td>37</td>\n",
              "      <td>Male</td>\n",
              "      <td>Cleveland</td>\n",
              "      <td>non-anginal</td>\n",
              "      <td>130.0</td>\n",
              "      <td>250.0</td>\n",
              "      <td>False</td>\n",
              "      <td>normal</td>\n",
              "      <td>187.0</td>\n",
              "      <td>False</td>\n",
              "      <td>3.5</td>\n",
              "      <td>downsloping</td>\n",
              "      <td>0.0</td>\n",
              "      <td>normal</td>\n",
              "      <td>0</td>\n",
              "    </tr>\n",
              "    <tr>\n",
              "      <th>4</th>\n",
              "      <td>5</td>\n",
              "      <td>41</td>\n",
              "      <td>Female</td>\n",
              "      <td>Cleveland</td>\n",
              "      <td>atypical angina</td>\n",
              "      <td>130.0</td>\n",
              "      <td>204.0</td>\n",
              "      <td>False</td>\n",
              "      <td>lv hypertrophy</td>\n",
              "      <td>172.0</td>\n",
              "      <td>False</td>\n",
              "      <td>1.4</td>\n",
              "      <td>upsloping</td>\n",
              "      <td>0.0</td>\n",
              "      <td>normal</td>\n",
              "      <td>0</td>\n",
              "    </tr>\n",
              "    <tr>\n",
              "      <th>...</th>\n",
              "      <td>...</td>\n",
              "      <td>...</td>\n",
              "      <td>...</td>\n",
              "      <td>...</td>\n",
              "      <td>...</td>\n",
              "      <td>...</td>\n",
              "      <td>...</td>\n",
              "      <td>...</td>\n",
              "      <td>...</td>\n",
              "      <td>...</td>\n",
              "      <td>...</td>\n",
              "      <td>...</td>\n",
              "      <td>...</td>\n",
              "      <td>...</td>\n",
              "      <td>...</td>\n",
              "      <td>...</td>\n",
              "    </tr>\n",
              "    <tr>\n",
              "      <th>915</th>\n",
              "      <td>916</td>\n",
              "      <td>54</td>\n",
              "      <td>Female</td>\n",
              "      <td>VA Long Beach</td>\n",
              "      <td>asymptomatic</td>\n",
              "      <td>127.0</td>\n",
              "      <td>333.0</td>\n",
              "      <td>True</td>\n",
              "      <td>st-t abnormality</td>\n",
              "      <td>154.0</td>\n",
              "      <td>False</td>\n",
              "      <td>0.0</td>\n",
              "      <td>NaN</td>\n",
              "      <td>NaN</td>\n",
              "      <td>NaN</td>\n",
              "      <td>1</td>\n",
              "    </tr>\n",
              "    <tr>\n",
              "      <th>916</th>\n",
              "      <td>917</td>\n",
              "      <td>62</td>\n",
              "      <td>Male</td>\n",
              "      <td>VA Long Beach</td>\n",
              "      <td>typical angina</td>\n",
              "      <td>NaN</td>\n",
              "      <td>139.0</td>\n",
              "      <td>False</td>\n",
              "      <td>st-t abnormality</td>\n",
              "      <td>NaN</td>\n",
              "      <td>NaN</td>\n",
              "      <td>NaN</td>\n",
              "      <td>NaN</td>\n",
              "      <td>NaN</td>\n",
              "      <td>NaN</td>\n",
              "      <td>0</td>\n",
              "    </tr>\n",
              "    <tr>\n",
              "      <th>917</th>\n",
              "      <td>918</td>\n",
              "      <td>55</td>\n",
              "      <td>Male</td>\n",
              "      <td>VA Long Beach</td>\n",
              "      <td>asymptomatic</td>\n",
              "      <td>122.0</td>\n",
              "      <td>223.0</td>\n",
              "      <td>True</td>\n",
              "      <td>st-t abnormality</td>\n",
              "      <td>100.0</td>\n",
              "      <td>False</td>\n",
              "      <td>0.0</td>\n",
              "      <td>NaN</td>\n",
              "      <td>NaN</td>\n",
              "      <td>fixed defect</td>\n",
              "      <td>2</td>\n",
              "    </tr>\n",
              "    <tr>\n",
              "      <th>918</th>\n",
              "      <td>919</td>\n",
              "      <td>58</td>\n",
              "      <td>Male</td>\n",
              "      <td>VA Long Beach</td>\n",
              "      <td>asymptomatic</td>\n",
              "      <td>NaN</td>\n",
              "      <td>385.0</td>\n",
              "      <td>True</td>\n",
              "      <td>lv hypertrophy</td>\n",
              "      <td>NaN</td>\n",
              "      <td>NaN</td>\n",
              "      <td>NaN</td>\n",
              "      <td>NaN</td>\n",
              "      <td>NaN</td>\n",
              "      <td>NaN</td>\n",
              "      <td>0</td>\n",
              "    </tr>\n",
              "    <tr>\n",
              "      <th>919</th>\n",
              "      <td>920</td>\n",
              "      <td>62</td>\n",
              "      <td>Male</td>\n",
              "      <td>VA Long Beach</td>\n",
              "      <td>atypical angina</td>\n",
              "      <td>120.0</td>\n",
              "      <td>254.0</td>\n",
              "      <td>False</td>\n",
              "      <td>lv hypertrophy</td>\n",
              "      <td>93.0</td>\n",
              "      <td>True</td>\n",
              "      <td>0.0</td>\n",
              "      <td>NaN</td>\n",
              "      <td>NaN</td>\n",
              "      <td>NaN</td>\n",
              "      <td>1</td>\n",
              "    </tr>\n",
              "  </tbody>\n",
              "</table>\n",
              "<p>920 rows × 16 columns</p>\n",
              "</div>\n",
              "    <div class=\"colab-df-buttons\">\n",
              "\n",
              "  <div class=\"colab-df-container\">\n",
              "    <button class=\"colab-df-convert\" onclick=\"convertToInteractive('df-e2952782-b347-4a09-af48-0a55a9a9ff06')\"\n",
              "            title=\"Convert this dataframe to an interactive table.\"\n",
              "            style=\"display:none;\">\n",
              "\n",
              "  <svg xmlns=\"http://www.w3.org/2000/svg\" height=\"24px\" viewBox=\"0 -960 960 960\">\n",
              "    <path d=\"M120-120v-720h720v720H120Zm60-500h600v-160H180v160Zm220 220h160v-160H400v160Zm0 220h160v-160H400v160ZM180-400h160v-160H180v160Zm440 0h160v-160H620v160ZM180-180h160v-160H180v160Zm440 0h160v-160H620v160Z\"/>\n",
              "  </svg>\n",
              "    </button>\n",
              "\n",
              "  <style>\n",
              "    .colab-df-container {\n",
              "      display:flex;\n",
              "      gap: 12px;\n",
              "    }\n",
              "\n",
              "    .colab-df-convert {\n",
              "      background-color: #E8F0FE;\n",
              "      border: none;\n",
              "      border-radius: 50%;\n",
              "      cursor: pointer;\n",
              "      display: none;\n",
              "      fill: #1967D2;\n",
              "      height: 32px;\n",
              "      padding: 0 0 0 0;\n",
              "      width: 32px;\n",
              "    }\n",
              "\n",
              "    .colab-df-convert:hover {\n",
              "      background-color: #E2EBFA;\n",
              "      box-shadow: 0px 1px 2px rgba(60, 64, 67, 0.3), 0px 1px 3px 1px rgba(60, 64, 67, 0.15);\n",
              "      fill: #174EA6;\n",
              "    }\n",
              "\n",
              "    .colab-df-buttons div {\n",
              "      margin-bottom: 4px;\n",
              "    }\n",
              "\n",
              "    [theme=dark] .colab-df-convert {\n",
              "      background-color: #3B4455;\n",
              "      fill: #D2E3FC;\n",
              "    }\n",
              "\n",
              "    [theme=dark] .colab-df-convert:hover {\n",
              "      background-color: #434B5C;\n",
              "      box-shadow: 0px 1px 3px 1px rgba(0, 0, 0, 0.15);\n",
              "      filter: drop-shadow(0px 1px 2px rgba(0, 0, 0, 0.3));\n",
              "      fill: #FFFFFF;\n",
              "    }\n",
              "  </style>\n",
              "\n",
              "    <script>\n",
              "      const buttonEl =\n",
              "        document.querySelector('#df-e2952782-b347-4a09-af48-0a55a9a9ff06 button.colab-df-convert');\n",
              "      buttonEl.style.display =\n",
              "        google.colab.kernel.accessAllowed ? 'block' : 'none';\n",
              "\n",
              "      async function convertToInteractive(key) {\n",
              "        const element = document.querySelector('#df-e2952782-b347-4a09-af48-0a55a9a9ff06');\n",
              "        const dataTable =\n",
              "          await google.colab.kernel.invokeFunction('convertToInteractive',\n",
              "                                                    [key], {});\n",
              "        if (!dataTable) return;\n",
              "\n",
              "        const docLinkHtml = 'Like what you see? Visit the ' +\n",
              "          '<a target=\"_blank\" href=https://colab.research.google.com/notebooks/data_table.ipynb>data table notebook</a>'\n",
              "          + ' to learn more about interactive tables.';\n",
              "        element.innerHTML = '';\n",
              "        dataTable['output_type'] = 'display_data';\n",
              "        await google.colab.output.renderOutput(dataTable, element);\n",
              "        const docLink = document.createElement('div');\n",
              "        docLink.innerHTML = docLinkHtml;\n",
              "        element.appendChild(docLink);\n",
              "      }\n",
              "    </script>\n",
              "  </div>\n",
              "\n",
              "\n",
              "<div id=\"df-f4cdfce4-5923-470c-a7dd-b7847aa2df85\">\n",
              "  <button class=\"colab-df-quickchart\" onclick=\"quickchart('df-f4cdfce4-5923-470c-a7dd-b7847aa2df85')\"\n",
              "            title=\"Suggest charts\"\n",
              "            style=\"display:none;\">\n",
              "\n",
              "<svg xmlns=\"http://www.w3.org/2000/svg\" height=\"24px\"viewBox=\"0 0 24 24\"\n",
              "     width=\"24px\">\n",
              "    <g>\n",
              "        <path d=\"M19 3H5c-1.1 0-2 .9-2 2v14c0 1.1.9 2 2 2h14c1.1 0 2-.9 2-2V5c0-1.1-.9-2-2-2zM9 17H7v-7h2v7zm4 0h-2V7h2v10zm4 0h-2v-4h2v4z\"/>\n",
              "    </g>\n",
              "</svg>\n",
              "  </button>\n",
              "\n",
              "<style>\n",
              "  .colab-df-quickchart {\n",
              "      --bg-color: #E8F0FE;\n",
              "      --fill-color: #1967D2;\n",
              "      --hover-bg-color: #E2EBFA;\n",
              "      --hover-fill-color: #174EA6;\n",
              "      --disabled-fill-color: #AAA;\n",
              "      --disabled-bg-color: #DDD;\n",
              "  }\n",
              "\n",
              "  [theme=dark] .colab-df-quickchart {\n",
              "      --bg-color: #3B4455;\n",
              "      --fill-color: #D2E3FC;\n",
              "      --hover-bg-color: #434B5C;\n",
              "      --hover-fill-color: #FFFFFF;\n",
              "      --disabled-bg-color: #3B4455;\n",
              "      --disabled-fill-color: #666;\n",
              "  }\n",
              "\n",
              "  .colab-df-quickchart {\n",
              "    background-color: var(--bg-color);\n",
              "    border: none;\n",
              "    border-radius: 50%;\n",
              "    cursor: pointer;\n",
              "    display: none;\n",
              "    fill: var(--fill-color);\n",
              "    height: 32px;\n",
              "    padding: 0;\n",
              "    width: 32px;\n",
              "  }\n",
              "\n",
              "  .colab-df-quickchart:hover {\n",
              "    background-color: var(--hover-bg-color);\n",
              "    box-shadow: 0 1px 2px rgba(60, 64, 67, 0.3), 0 1px 3px 1px rgba(60, 64, 67, 0.15);\n",
              "    fill: var(--button-hover-fill-color);\n",
              "  }\n",
              "\n",
              "  .colab-df-quickchart-complete:disabled,\n",
              "  .colab-df-quickchart-complete:disabled:hover {\n",
              "    background-color: var(--disabled-bg-color);\n",
              "    fill: var(--disabled-fill-color);\n",
              "    box-shadow: none;\n",
              "  }\n",
              "\n",
              "  .colab-df-spinner {\n",
              "    border: 2px solid var(--fill-color);\n",
              "    border-color: transparent;\n",
              "    border-bottom-color: var(--fill-color);\n",
              "    animation:\n",
              "      spin 1s steps(1) infinite;\n",
              "  }\n",
              "\n",
              "  @keyframes spin {\n",
              "    0% {\n",
              "      border-color: transparent;\n",
              "      border-bottom-color: var(--fill-color);\n",
              "      border-left-color: var(--fill-color);\n",
              "    }\n",
              "    20% {\n",
              "      border-color: transparent;\n",
              "      border-left-color: var(--fill-color);\n",
              "      border-top-color: var(--fill-color);\n",
              "    }\n",
              "    30% {\n",
              "      border-color: transparent;\n",
              "      border-left-color: var(--fill-color);\n",
              "      border-top-color: var(--fill-color);\n",
              "      border-right-color: var(--fill-color);\n",
              "    }\n",
              "    40% {\n",
              "      border-color: transparent;\n",
              "      border-right-color: var(--fill-color);\n",
              "      border-top-color: var(--fill-color);\n",
              "    }\n",
              "    60% {\n",
              "      border-color: transparent;\n",
              "      border-right-color: var(--fill-color);\n",
              "    }\n",
              "    80% {\n",
              "      border-color: transparent;\n",
              "      border-right-color: var(--fill-color);\n",
              "      border-bottom-color: var(--fill-color);\n",
              "    }\n",
              "    90% {\n",
              "      border-color: transparent;\n",
              "      border-bottom-color: var(--fill-color);\n",
              "    }\n",
              "  }\n",
              "</style>\n",
              "\n",
              "  <script>\n",
              "    async function quickchart(key) {\n",
              "      const quickchartButtonEl =\n",
              "        document.querySelector('#' + key + ' button');\n",
              "      quickchartButtonEl.disabled = true;  // To prevent multiple clicks.\n",
              "      quickchartButtonEl.classList.add('colab-df-spinner');\n",
              "      try {\n",
              "        const charts = await google.colab.kernel.invokeFunction(\n",
              "            'suggestCharts', [key], {});\n",
              "      } catch (error) {\n",
              "        console.error('Error during call to suggestCharts:', error);\n",
              "      }\n",
              "      quickchartButtonEl.classList.remove('colab-df-spinner');\n",
              "      quickchartButtonEl.classList.add('colab-df-quickchart-complete');\n",
              "    }\n",
              "    (() => {\n",
              "      let quickchartButtonEl =\n",
              "        document.querySelector('#df-f4cdfce4-5923-470c-a7dd-b7847aa2df85 button');\n",
              "      quickchartButtonEl.style.display =\n",
              "        google.colab.kernel.accessAllowed ? 'block' : 'none';\n",
              "    })();\n",
              "  </script>\n",
              "</div>\n",
              "\n",
              "  <div id=\"id_104e3857-6178-4063-8583-c8a772828882\">\n",
              "    <style>\n",
              "      .colab-df-generate {\n",
              "        background-color: #E8F0FE;\n",
              "        border: none;\n",
              "        border-radius: 50%;\n",
              "        cursor: pointer;\n",
              "        display: none;\n",
              "        fill: #1967D2;\n",
              "        height: 32px;\n",
              "        padding: 0 0 0 0;\n",
              "        width: 32px;\n",
              "      }\n",
              "\n",
              "      .colab-df-generate:hover {\n",
              "        background-color: #E2EBFA;\n",
              "        box-shadow: 0px 1px 2px rgba(60, 64, 67, 0.3), 0px 1px 3px 1px rgba(60, 64, 67, 0.15);\n",
              "        fill: #174EA6;\n",
              "      }\n",
              "\n",
              "      [theme=dark] .colab-df-generate {\n",
              "        background-color: #3B4455;\n",
              "        fill: #D2E3FC;\n",
              "      }\n",
              "\n",
              "      [theme=dark] .colab-df-generate:hover {\n",
              "        background-color: #434B5C;\n",
              "        box-shadow: 0px 1px 3px 1px rgba(0, 0, 0, 0.15);\n",
              "        filter: drop-shadow(0px 1px 2px rgba(0, 0, 0, 0.3));\n",
              "        fill: #FFFFFF;\n",
              "      }\n",
              "    </style>\n",
              "    <button class=\"colab-df-generate\" onclick=\"generateWithVariable('dataset')\"\n",
              "            title=\"Generate code using this dataframe.\"\n",
              "            style=\"display:none;\">\n",
              "\n",
              "  <svg xmlns=\"http://www.w3.org/2000/svg\" height=\"24px\"viewBox=\"0 0 24 24\"\n",
              "       width=\"24px\">\n",
              "    <path d=\"M7,19H8.4L18.45,9,17,7.55,7,17.6ZM5,21V16.75L18.45,3.32a2,2,0,0,1,2.83,0l1.4,1.43a1.91,1.91,0,0,1,.58,1.4,1.91,1.91,0,0,1-.58,1.4L9.25,21ZM18.45,9,17,7.55Zm-12,3A5.31,5.31,0,0,0,4.9,8.1,5.31,5.31,0,0,0,1,6.5,5.31,5.31,0,0,0,4.9,4.9,5.31,5.31,0,0,0,6.5,1,5.31,5.31,0,0,0,8.1,4.9,5.31,5.31,0,0,0,12,6.5,5.46,5.46,0,0,0,6.5,12Z\"/>\n",
              "  </svg>\n",
              "    </button>\n",
              "    <script>\n",
              "      (() => {\n",
              "      const buttonEl =\n",
              "        document.querySelector('#id_104e3857-6178-4063-8583-c8a772828882 button.colab-df-generate');\n",
              "      buttonEl.style.display =\n",
              "        google.colab.kernel.accessAllowed ? 'block' : 'none';\n",
              "\n",
              "      buttonEl.onclick = () => {\n",
              "        google.colab.notebook.generateWithVariable('dataset');\n",
              "      }\n",
              "      })();\n",
              "    </script>\n",
              "  </div>\n",
              "\n",
              "    </div>\n",
              "  </div>\n"
            ],
            "application/vnd.google.colaboratory.intrinsic+json": {
              "type": "dataframe",
              "variable_name": "dataset",
              "summary": "{\n  \"name\": \"dataset\",\n  \"rows\": 920,\n  \"fields\": [\n    {\n      \"column\": \"id\",\n      \"properties\": {\n        \"dtype\": \"number\",\n        \"std\": 265,\n        \"min\": 1,\n        \"max\": 920,\n        \"num_unique_values\": 920,\n        \"samples\": [\n          320,\n          378,\n          539\n        ],\n        \"semantic_type\": \"\",\n        \"description\": \"\"\n      }\n    },\n    {\n      \"column\": \"age\",\n      \"properties\": {\n        \"dtype\": \"number\",\n        \"std\": 9,\n        \"min\": 28,\n        \"max\": 77,\n        \"num_unique_values\": 50,\n        \"samples\": [\n          64,\n          74,\n          39\n        ],\n        \"semantic_type\": \"\",\n        \"description\": \"\"\n      }\n    },\n    {\n      \"column\": \"sex\",\n      \"properties\": {\n        \"dtype\": \"category\",\n        \"num_unique_values\": 2,\n        \"samples\": [\n          \"Female\",\n          \"Male\"\n        ],\n        \"semantic_type\": \"\",\n        \"description\": \"\"\n      }\n    },\n    {\n      \"column\": \"dataset\",\n      \"properties\": {\n        \"dtype\": \"category\",\n        \"num_unique_values\": 4,\n        \"samples\": [\n          \"Hungary\",\n          \"VA Long Beach\"\n        ],\n        \"semantic_type\": \"\",\n        \"description\": \"\"\n      }\n    },\n    {\n      \"column\": \"cp\",\n      \"properties\": {\n        \"dtype\": \"category\",\n        \"num_unique_values\": 4,\n        \"samples\": [\n          \"asymptomatic\",\n          \"atypical angina\"\n        ],\n        \"semantic_type\": \"\",\n        \"description\": \"\"\n      }\n    },\n    {\n      \"column\": \"trestbps\",\n      \"properties\": {\n        \"dtype\": \"number\",\n        \"std\": 19.066069518587476,\n        \"min\": 0.0,\n        \"max\": 200.0,\n        \"num_unique_values\": 61,\n        \"samples\": [\n          145.0,\n          172.0\n        ],\n        \"semantic_type\": \"\",\n        \"description\": \"\"\n      }\n    },\n    {\n      \"column\": \"chol\",\n      \"properties\": {\n        \"dtype\": \"number\",\n        \"std\": 110.7808103532305,\n        \"min\": 0.0,\n        \"max\": 603.0,\n        \"num_unique_values\": 217,\n        \"samples\": [\n          384.0,\n          333.0\n        ],\n        \"semantic_type\": \"\",\n        \"description\": \"\"\n      }\n    },\n    {\n      \"column\": \"fbs\",\n      \"properties\": {\n        \"dtype\": \"category\",\n        \"num_unique_values\": 2,\n        \"samples\": [\n          false,\n          true\n        ],\n        \"semantic_type\": \"\",\n        \"description\": \"\"\n      }\n    },\n    {\n      \"column\": \"restecg\",\n      \"properties\": {\n        \"dtype\": \"category\",\n        \"num_unique_values\": 3,\n        \"samples\": [\n          \"lv hypertrophy\",\n          \"normal\"\n        ],\n        \"semantic_type\": \"\",\n        \"description\": \"\"\n      }\n    },\n    {\n      \"column\": \"thalch\",\n      \"properties\": {\n        \"dtype\": \"number\",\n        \"std\": 25.926276492797594,\n        \"min\": 60.0,\n        \"max\": 202.0,\n        \"num_unique_values\": 119,\n        \"samples\": [\n          185.0,\n          134.0\n        ],\n        \"semantic_type\": \"\",\n        \"description\": \"\"\n      }\n    },\n    {\n      \"column\": \"exang\",\n      \"properties\": {\n        \"dtype\": \"category\",\n        \"num_unique_values\": 2,\n        \"samples\": [\n          true,\n          false\n        ],\n        \"semantic_type\": \"\",\n        \"description\": \"\"\n      }\n    },\n    {\n      \"column\": \"oldpeak\",\n      \"properties\": {\n        \"dtype\": \"number\",\n        \"std\": 1.0912262483465298,\n        \"min\": -2.6,\n        \"max\": 6.2,\n        \"num_unique_values\": 53,\n        \"samples\": [\n          2.4,\n          -1.1\n        ],\n        \"semantic_type\": \"\",\n        \"description\": \"\"\n      }\n    },\n    {\n      \"column\": \"slope\",\n      \"properties\": {\n        \"dtype\": \"category\",\n        \"num_unique_values\": 3,\n        \"samples\": [\n          \"downsloping\",\n          \"flat\"\n        ],\n        \"semantic_type\": \"\",\n        \"description\": \"\"\n      }\n    },\n    {\n      \"column\": \"ca\",\n      \"properties\": {\n        \"dtype\": \"number\",\n        \"std\": 0.935653012559987,\n        \"min\": 0.0,\n        \"max\": 3.0,\n        \"num_unique_values\": 4,\n        \"samples\": [\n          3.0,\n          1.0\n        ],\n        \"semantic_type\": \"\",\n        \"description\": \"\"\n      }\n    },\n    {\n      \"column\": \"thal\",\n      \"properties\": {\n        \"dtype\": \"category\",\n        \"num_unique_values\": 3,\n        \"samples\": [\n          \"fixed defect\",\n          \"normal\"\n        ],\n        \"semantic_type\": \"\",\n        \"description\": \"\"\n      }\n    },\n    {\n      \"column\": \"num\",\n      \"properties\": {\n        \"dtype\": \"number\",\n        \"std\": 1,\n        \"min\": 0,\n        \"max\": 4,\n        \"num_unique_values\": 5,\n        \"samples\": [\n          2,\n          4\n        ],\n        \"semantic_type\": \"\",\n        \"description\": \"\"\n      }\n    }\n  ]\n}"
            }
          },
          "metadata": {},
          "execution_count": 442
        }
      ]
    },
    {
      "cell_type": "code",
      "source": [
        "dataset.info()"
      ],
      "metadata": {
        "colab": {
          "base_uri": "https://localhost:8080/"
        },
        "id": "_MUD9Z9s2IrU",
        "outputId": "c77c5597-bc6a-46d4-e786-7a164c508a38"
      },
      "execution_count": null,
      "outputs": [
        {
          "output_type": "stream",
          "name": "stdout",
          "text": [
            "<class 'pandas.core.frame.DataFrame'>\n",
            "RangeIndex: 920 entries, 0 to 919\n",
            "Data columns (total 16 columns):\n",
            " #   Column    Non-Null Count  Dtype  \n",
            "---  ------    --------------  -----  \n",
            " 0   id        920 non-null    int64  \n",
            " 1   age       920 non-null    int64  \n",
            " 2   sex       920 non-null    object \n",
            " 3   dataset   920 non-null    object \n",
            " 4   cp        920 non-null    object \n",
            " 5   trestbps  861 non-null    float64\n",
            " 6   chol      890 non-null    float64\n",
            " 7   fbs       830 non-null    object \n",
            " 8   restecg   918 non-null    object \n",
            " 9   thalch    865 non-null    float64\n",
            " 10  exang     865 non-null    object \n",
            " 11  oldpeak   858 non-null    float64\n",
            " 12  slope     611 non-null    object \n",
            " 13  ca        309 non-null    float64\n",
            " 14  thal      434 non-null    object \n",
            " 15  num       920 non-null    int64  \n",
            "dtypes: float64(5), int64(3), object(8)\n",
            "memory usage: 115.1+ KB\n"
          ]
        }
      ]
    },
    {
      "cell_type": "code",
      "source": [
        "# Check for missing values\n",
        "print(dataset.isnull().sum())"
      ],
      "metadata": {
        "colab": {
          "base_uri": "https://localhost:8080/"
        },
        "id": "LbEVtoFu1yEJ",
        "outputId": "e1a19daf-6374-4d5b-eea8-d7410bb60059"
      },
      "execution_count": null,
      "outputs": [
        {
          "output_type": "stream",
          "name": "stdout",
          "text": [
            "id            0\n",
            "age           0\n",
            "sex           0\n",
            "dataset       0\n",
            "cp            0\n",
            "trestbps     59\n",
            "chol         30\n",
            "fbs          90\n",
            "restecg       2\n",
            "thalch       55\n",
            "exang        55\n",
            "oldpeak      62\n",
            "slope       309\n",
            "ca          611\n",
            "thal        486\n",
            "num           0\n",
            "dtype: int64\n"
          ]
        }
      ]
    },
    {
      "cell_type": "markdown",
      "source": [
        "DATASET INFORMATION SUMMARY\n",
        "--------------------------------------------------\n",
        "1. The dataset contains 920 entries across 16 features pertinent to heart disease studies.\n",
        "2. Complete data is available for 'id', 'age', 'sex', 'dataset', 'cp', and the outcome variable 'num'.\n",
        "3. Significant missing data is found in 'ca' with 66.41% missing.\n",
        "4. Significant missing data is found in 'thal' with 52.83% missing.\n",
        "5. 'Slope' also has a considerable amount of missing data, with only 611 non-null entries.\n",
        "6. Variables 'trestbps', 'chol', 'fbs', 'thalch', 'exang', and 'oldpeak' have some missing values but to a lesser extent."
      ],
      "metadata": {
        "id": "YixesIeEZINs"
      }
    },
    {
      "cell_type": "code",
      "source": [
        "\n",
        "\n",
        "# Drop columns with missing values # Removing these columns due to high missing values\n",
        "dataset_cleaned = dataset.drop(columns=['slope', 'ca', 'thal'])\n"
      ],
      "metadata": {
        "id": "BDIOOKt73Gus"
      },
      "execution_count": null,
      "outputs": []
    },
    {
      "cell_type": "code",
      "source": [
        "# Check for missing values\n",
        "print(dataset_cleaned.isnull().sum())"
      ],
      "metadata": {
        "colab": {
          "base_uri": "https://localhost:8080/"
        },
        "id": "QbyDgWxr6gzZ",
        "outputId": "55b31a80-593b-4571-e57c-7f9768aefa20"
      },
      "execution_count": null,
      "outputs": [
        {
          "output_type": "stream",
          "name": "stdout",
          "text": [
            "id           0\n",
            "age          0\n",
            "sex          0\n",
            "dataset      0\n",
            "cp           0\n",
            "trestbps    59\n",
            "chol        30\n",
            "fbs         90\n",
            "restecg      2\n",
            "thalch      55\n",
            "exang       55\n",
            "oldpeak     62\n",
            "num          0\n",
            "dtype: int64\n"
          ]
        }
      ]
    },
    {
      "cell_type": "code",
      "source": [
        "# Columns for median imputation\n",
        "numeric_columns = ['trestbps', 'chol', 'thalch', 'oldpeak']\n",
        "\n",
        "# Impute missing numeric values with the median\n",
        "numeric_imputer = SimpleImputer(strategy='median')\n",
        "dataset_cleaned[numeric_columns] = numeric_imputer.fit_transform(dataset_cleaned[numeric_columns])"
      ],
      "metadata": {
        "id": "P6VCTP1f53RP"
      },
      "execution_count": null,
      "outputs": []
    },
    {
      "cell_type": "code",
      "source": [
        "# Check for missing values\n",
        "print(dataset_cleaned.isnull().sum())"
      ],
      "metadata": {
        "colab": {
          "base_uri": "https://localhost:8080/"
        },
        "id": "iICxPk-K6Uar",
        "outputId": "0bfe2ee0-5cce-4852-be06-74c15870f778"
      },
      "execution_count": null,
      "outputs": [
        {
          "output_type": "stream",
          "name": "stdout",
          "text": [
            "id           0\n",
            "age          0\n",
            "sex          0\n",
            "dataset      0\n",
            "cp           0\n",
            "trestbps     0\n",
            "chol         0\n",
            "fbs         90\n",
            "restecg      2\n",
            "thalch       0\n",
            "exang       55\n",
            "oldpeak      0\n",
            "num          0\n",
            "dtype: int64\n"
          ]
        }
      ]
    },
    {
      "cell_type": "code",
      "source": [
        "# Columns for mode imputation\n",
        "categorical_columns = ['fbs', 'restecg', 'exang']  # 'slope', 'ca', 'thal' have already been dropped\n",
        "\n",
        "# Impute missing categorical values with the most frequent (mode)\n",
        "categorical_imputer = SimpleImputer(strategy='most_frequent')\n",
        "dataset_cleaned[categorical_columns] = categorical_imputer.fit_transform(dataset_cleaned[categorical_columns])"
      ],
      "metadata": {
        "id": "QYIYof0WJK2k"
      },
      "execution_count": null,
      "outputs": []
    },
    {
      "cell_type": "code",
      "source": [
        "# Check for any remaining missing values\n",
        "print(dataset_cleaned.isnull().sum())"
      ],
      "metadata": {
        "colab": {
          "base_uri": "https://localhost:8080/"
        },
        "id": "jC1NaBDDKfwm",
        "outputId": "01663ddb-10b7-41c4-b5ab-1a10ec46d56b"
      },
      "execution_count": null,
      "outputs": [
        {
          "output_type": "stream",
          "name": "stdout",
          "text": [
            "id          0\n",
            "age         0\n",
            "sex         0\n",
            "dataset     0\n",
            "cp          0\n",
            "trestbps    0\n",
            "chol        0\n",
            "fbs         0\n",
            "restecg     0\n",
            "thalch      0\n",
            "exang       0\n",
            "oldpeak     0\n",
            "num         0\n",
            "dtype: int64\n"
          ]
        }
      ]
    },
    {
      "cell_type": "markdown",
      "source": [
        "## dealing with outliers"
      ],
      "metadata": {
        "id": "uJ_0pFNvMbPK"
      }
    },
    {
      "cell_type": "code",
      "source": [
        "df=dataset_cleaned #change the dataset name for to easy use"
      ],
      "metadata": {
        "id": "hC_r_32YMd1k"
      },
      "execution_count": null,
      "outputs": []
    },
    {
      "cell_type": "code",
      "source": [
        "numerical_columns = df.select_dtypes(exclude=object).columns.tolist()\n",
        "\n",
        "for col in numerical_columns:\n",
        "    upper_limit = df[col].mean() + 3 * df[col].std()\n",
        "    lower_limit = df[col].mean() - 3 * df[col].std()\n",
        "    df = df[(df[col] <= upper_limit) & (df[col] >= lower_limit)]"
      ],
      "metadata": {
        "id": "1_jS3y8mObxJ"
      },
      "execution_count": null,
      "outputs": []
    },
    {
      "cell_type": "code",
      "source": [
        "# Draw the correaltion plot:\n",
        "df_corr = ['age','trestbps','chol','thalch','oldpeak']\n",
        "plt.figure(figsize=(8, 6))\n",
        "sns.heatmap(df[df_corr].corr(), annot=True)\n",
        "plt.title(\"Correlation Plot\")\n",
        "plt.show()"
      ],
      "metadata": {
        "colab": {
          "base_uri": "https://localhost:8080/",
          "height": 545
        },
        "id": "9YbRDtTNjoS6",
        "outputId": "036f8e79-5ccf-4d10-c417-d50f997f73e5"
      },
      "execution_count": null,
      "outputs": [
        {
          "output_type": "display_data",
          "data": {
            "text/plain": [
              "<Figure size 800x600 with 2 Axes>"
            ],
            "image/png": "[encoded data removed]"
          },
          "metadata": {}
        }
      ]
    },
    {
      "cell_type": "code",
      "source": [
        "# Explore the distribution of the target variable\n",
        "sns.countplot(x='num', data=df)\n",
        "plt.title('Distribution of Heart Attack')\n",
        "plt.show()"
      ],
      "metadata": {
        "id": "7uPWaXfQPGUl",
        "colab": {
          "base_uri": "https://localhost:8080/",
          "height": 472
        },
        "outputId": "1c441e74-46ba-459e-c7d0-86cfa4de57dd"
      },
      "execution_count": null,
      "outputs": [
        {
          "output_type": "display_data",
          "data": {
            "text/plain": [
              "<Figure size 640x480 with 1 Axes>"
            ],
            "image/png": "[encoded data removed]"
          },
          "metadata": {}
        }
      ]
    },
    {
      "cell_type": "markdown",
      "source": [
        "## scaling the numeric section"
      ],
      "metadata": {
        "id": "ODxXspn1rJ7s"
      }
    },
    {
      "cell_type": "code",
      "source": [],
      "metadata": {
        "id": "9uyIdgIJrGHA"
      },
      "execution_count": null,
      "outputs": []
    },
    {
      "cell_type": "code",
      "source": [],
      "metadata": {
        "id": "6BE6TjW-re22"
      },
      "execution_count": null,
      "outputs": []
    },
    {
      "cell_type": "markdown",
      "source": [
        "##Statistical Description"
      ],
      "metadata": {
        "id": "AmaQzlerVn9f"
      }
    },
    {
      "cell_type": "code",
      "source": [
        "df.describe()"
      ],
      "metadata": {
        "id": "OPcwIKkzQ1S4",
        "colab": {
          "base_uri": "https://localhost:8080/",
          "height": 300
        },
        "outputId": "84264c41-083c-4d0b-ffc5-be3ad574488b"
      },
      "execution_count": null,
      "outputs": [
        {
          "output_type": "execute_result",
          "data": {
            "text/plain": [
              "               id         age    trestbps        chol      thalch     oldpeak  \\\n",
              "count  901.000000  901.000000  901.000000  901.000000  901.000000  901.000000   \n",
              "mean   461.128746   53.497225  131.619312  199.139845  137.819090    0.826748   \n",
              "std    266.028351    9.447942   17.045769  106.812517   25.029616    0.997634   \n",
              "min      1.000000   28.000000   80.000000    0.000000   63.000000   -2.000000   \n",
              "25%    233.000000   47.000000  120.000000  179.000000  120.000000    0.000000   \n",
              "50%    460.000000   54.000000  130.000000  223.000000  140.000000    0.500000   \n",
              "75%    692.000000   60.000000  140.000000  266.000000  156.000000    1.500000   \n",
              "max    920.000000   77.000000  185.000000  518.000000  202.000000    4.000000   \n",
              "\n",
              "              num  \n",
              "count  901.000000  \n",
              "mean     0.975583  \n",
              "std      1.130124  \n",
              "min      0.000000  \n",
              "25%      0.000000  \n",
              "50%      1.000000  \n",
              "75%      2.000000  \n",
              "max      4.000000  "
            ],
            "text/html": [
              "\n",
              "  <div id=\"df-710a4050-6e41-4ad7-a6f2-8c32d31894b1\" class=\"colab-df-container\">\n",
              "    <div>\n",
              "<style scoped>\n",
              "    .dataframe tbody tr th:only-of-type {\n",
              "        vertical-align: middle;\n",
              "    }\n",
              "\n",
              "    .dataframe tbody tr th {\n",
              "        vertical-align: top;\n",
              "    }\n",
              "\n",
              "    .dataframe thead th {\n",
              "        text-align: right;\n",
              "    }\n",
              "</style>\n",
              "<table border=\"1\" class=\"dataframe\">\n",
              "  <thead>\n",
              "    <tr style=\"text-align: right;\">\n",
              "      <th></th>\n",
              "      <th>id</th>\n",
              "      <th>age</th>\n",
              "      <th>trestbps</th>\n",
              "      <th>chol</th>\n",
              "      <th>thalch</th>\n",
              "      <th>oldpeak</th>\n",
              "      <th>num</th>\n",
              "    </tr>\n",
              "  </thead>\n",
              "  <tbody>\n",
              "    <tr>\n",
              "      <th>count</th>\n",
              "      <td>901.000000</td>\n",
              "      <td>901.000000</td>\n",
              "      <td>901.000000</td>\n",
              "      <td>901.000000</td>\n",
              "      <td>901.000000</td>\n",
              "      <td>901.000000</td>\n",
              "      <td>901.000000</td>\n",
              "    </tr>\n",
              "    <tr>\n",
              "      <th>mean</th>\n",
              "      <td>461.128746</td>\n",
              "      <td>53.497225</td>\n",
              "      <td>131.619312</td>\n",
              "      <td>199.139845</td>\n",
              "      <td>137.819090</td>\n",
              "      <td>0.826748</td>\n",
              "      <td>0.975583</td>\n",
              "    </tr>\n",
              "    <tr>\n",
              "      <th>std</th>\n",
              "      <td>266.028351</td>\n",
              "      <td>9.447942</td>\n",
              "      <td>17.045769</td>\n",
              "      <td>106.812517</td>\n",
              "      <td>25.029616</td>\n",
              "      <td>0.997634</td>\n",
              "      <td>1.130124</td>\n",
              "    </tr>\n",
              "    <tr>\n",
              "      <th>min</th>\n",
              "      <td>1.000000</td>\n",
              "      <td>28.000000</td>\n",
              "      <td>80.000000</td>\n",
              "      <td>0.000000</td>\n",
              "      <td>63.000000</td>\n",
              "      <td>-2.000000</td>\n",
              "      <td>0.000000</td>\n",
              "    </tr>\n",
              "    <tr>\n",
              "      <th>25%</th>\n",
              "      <td>233.000000</td>\n",
              "      <td>47.000000</td>\n",
              "      <td>120.000000</td>\n",
              "      <td>179.000000</td>\n",
              "      <td>120.000000</td>\n",
              "      <td>0.000000</td>\n",
              "      <td>0.000000</td>\n",
              "    </tr>\n",
              "    <tr>\n",
              "      <th>50%</th>\n",
              "      <td>460.000000</td>\n",
              "      <td>54.000000</td>\n",
              "      <td>130.000000</td>\n",
              "      <td>223.000000</td>\n",
              "      <td>140.000000</td>\n",
              "      <td>0.500000</td>\n",
              "      <td>1.000000</td>\n",
              "    </tr>\n",
              "    <tr>\n",
              "      <th>75%</th>\n",
              "      <td>692.000000</td>\n",
              "      <td>60.000000</td>\n",
              "      <td>140.000000</td>\n",
              "      <td>266.000000</td>\n",
              "      <td>156.000000</td>\n",
              "      <td>1.500000</td>\n",
              "      <td>2.000000</td>\n",
              "    </tr>\n",
              "    <tr>\n",
              "      <th>max</th>\n",
              "      <td>920.000000</td>\n",
              "      <td>77.000000</td>\n",
              "      <td>185.000000</td>\n",
              "      <td>518.000000</td>\n",
              "      <td>202.000000</td>\n",
              "      <td>4.000000</td>\n",
              "      <td>4.000000</td>\n",
              "    </tr>\n",
              "  </tbody>\n",
              "</table>\n",
              "</div>\n",
              "    <div class=\"colab-df-buttons\">\n",
              "\n",
              "  <div class=\"colab-df-container\">\n",
              "    <button class=\"colab-df-convert\" onclick=\"convertToInteractive('df-710a4050-6e41-4ad7-a6f2-8c32d31894b1')\"\n",
              "            title=\"Convert this dataframe to an interactive table.\"\n",
              "            style=\"display:none;\">\n",
              "\n",
              "  <svg xmlns=\"http://www.w3.org/2000/svg\" height=\"24px\" viewBox=\"0 -960 960 960\">\n",
              "    <path d=\"M120-120v-720h720v720H120Zm60-500h600v-160H180v160Zm220 220h160v-160H400v160Zm0 220h160v-160H400v160ZM180-400h160v-160H180v160Zm440 0h160v-160H620v160ZM180-180h160v-160H180v160Zm440 0h160v-160H620v160Z\"/>\n",
              "  </svg>\n",
              "    </button>\n",
              "\n",
              "  <style>\n",
              "    .colab-df-container {\n",
              "      display:flex;\n",
              "      gap: 12px;\n",
              "    }\n",
              "\n",
              "    .colab-df-convert {\n",
              "      background-color: #E8F0FE;\n",
              "      border: none;\n",
              "      border-radius: 50%;\n",
              "      cursor: pointer;\n",
              "      display: none;\n",
              "      fill: #1967D2;\n",
              "      height: 32px;\n",
              "      padding: 0 0 0 0;\n",
              "      width: 32px;\n",
              "    }\n",
              "\n",
              "    .colab-df-convert:hover {\n",
              "      background-color: #E2EBFA;\n",
              "      box-shadow: 0px 1px 2px rgba(60, 64, 67, 0.3), 0px 1px 3px 1px rgba(60, 64, 67, 0.15);\n",
              "      fill: #174EA6;\n",
              "    }\n",
              "\n",
              "    .colab-df-buttons div {\n",
              "      margin-bottom: 4px;\n",
              "    }\n",
              "\n",
              "    [theme=dark] .colab-df-convert {\n",
              "      background-color: #3B4455;\n",
              "      fill: #D2E3FC;\n",
              "    }\n",
              "\n",
              "    [theme=dark] .colab-df-convert:hover {\n",
              "      background-color: #434B5C;\n",
              "      box-shadow: 0px 1px 3px 1px rgba(0, 0, 0, 0.15);\n",
              "      filter: drop-shadow(0px 1px 2px rgba(0, 0, 0, 0.3));\n",
              "      fill: #FFFFFF;\n",
              "    }\n",
              "  </style>\n",
              "\n",
              "    <script>\n",
              "      const buttonEl =\n",
              "        document.querySelector('#df-710a4050-6e41-4ad7-a6f2-8c32d31894b1 button.colab-df-convert');\n",
              "      buttonEl.style.display =\n",
              "        google.colab.kernel.accessAllowed ? 'block' : 'none';\n",
              "\n",
              "      async function convertToInteractive(key) {\n",
              "        const element = document.querySelector('#df-710a4050-6e41-4ad7-a6f2-8c32d31894b1');\n",
              "        const dataTable =\n",
              "          await google.colab.kernel.invokeFunction('convertToInteractive',\n",
              "                                                    [key], {});\n",
              "        if (!dataTable) return;\n",
              "\n",
              "        const docLinkHtml = 'Like what you see? Visit the ' +\n",
              "          '<a target=\"_blank\" href=https://colab.research.google.com/notebooks/data_table.ipynb>data table notebook</a>'\n",
              "          + ' to learn more about interactive tables.';\n",
              "        element.innerHTML = '';\n",
              "        dataTable['output_type'] = 'display_data';\n",
              "        await google.colab.output.renderOutput(dataTable, element);\n",
              "        const docLink = document.createElement('div');\n",
              "        docLink.innerHTML = docLinkHtml;\n",
              "        element.appendChild(docLink);\n",
              "      }\n",
              "    </script>\n",
              "  </div>\n",
              "\n",
              "\n",
              "<div id=\"df-66336880-14bf-4ab1-861a-5acd59ce5142\">\n",
              "  <button class=\"colab-df-quickchart\" onclick=\"quickchart('df-66336880-14bf-4ab1-861a-5acd59ce5142')\"\n",
              "            title=\"Suggest charts\"\n",
              "            style=\"display:none;\">\n",
              "\n",
              "<svg xmlns=\"http://www.w3.org/2000/svg\" height=\"24px\"viewBox=\"0 0 24 24\"\n",
              "     width=\"24px\">\n",
              "    <g>\n",
              "        <path d=\"M19 3H5c-1.1 0-2 .9-2 2v14c0 1.1.9 2 2 2h14c1.1 0 2-.9 2-2V5c0-1.1-.9-2-2-2zM9 17H7v-7h2v7zm4 0h-2V7h2v10zm4 0h-2v-4h2v4z\"/>\n",
              "    </g>\n",
              "</svg>\n",
              "  </button>\n",
              "\n",
              "<style>\n",
              "  .colab-df-quickchart {\n",
              "      --bg-color: #E8F0FE;\n",
              "      --fill-color: #1967D2;\n",
              "      --hover-bg-color: #E2EBFA;\n",
              "      --hover-fill-color: #174EA6;\n",
              "      --disabled-fill-color: #AAA;\n",
              "      --disabled-bg-color: #DDD;\n",
              "  }\n",
              "\n",
              "  [theme=dark] .colab-df-quickchart {\n",
              "      --bg-color: #3B4455;\n",
              "      --fill-color: #D2E3FC;\n",
              "      --hover-bg-color: #434B5C;\n",
              "      --hover-fill-color: #FFFFFF;\n",
              "      --disabled-bg-color: #3B4455;\n",
              "      --disabled-fill-color: #666;\n",
              "  }\n",
              "\n",
              "  .colab-df-quickchart {\n",
              "    background-color: var(--bg-color);\n",
              "    border: none;\n",
              "    border-radius: 50%;\n",
              "    cursor: pointer;\n",
              "    display: none;\n",
              "    fill: var(--fill-color);\n",
              "    height: 32px;\n",
              "    padding: 0;\n",
              "    width: 32px;\n",
              "  }\n",
              "\n",
              "  .colab-df-quickchart:hover {\n",
              "    background-color: var(--hover-bg-color);\n",
              "    box-shadow: 0 1px 2px rgba(60, 64, 67, 0.3), 0 1px 3px 1px rgba(60, 64, 67, 0.15);\n",
              "    fill: var(--button-hover-fill-color);\n",
              "  }\n",
              "\n",
              "  .colab-df-quickchart-complete:disabled,\n",
              "  .colab-df-quickchart-complete:disabled:hover {\n",
              "    background-color: var(--disabled-bg-color);\n",
              "    fill: var(--disabled-fill-color);\n",
              "    box-shadow: none;\n",
              "  }\n",
              "\n",
              "  .colab-df-spinner {\n",
              "    border: 2px solid var(--fill-color);\n",
              "    border-color: transparent;\n",
              "    border-bottom-color: var(--fill-color);\n",
              "    animation:\n",
              "      spin 1s steps(1) infinite;\n",
              "  }\n",
              "\n",
              "  @keyframes spin {\n",
              "    0% {\n",
              "      border-color: transparent;\n",
              "      border-bottom-color: var(--fill-color);\n",
              "      border-left-color: var(--fill-color);\n",
              "    }\n",
              "    20% {\n",
              "      border-color: transparent;\n",
              "      border-left-color: var(--fill-color);\n",
              "      border-top-color: var(--fill-color);\n",
              "    }\n",
              "    30% {\n",
              "      border-color: transparent;\n",
              "      border-left-color: var(--fill-color);\n",
              "      border-top-color: var(--fill-color);\n",
              "      border-right-color: var(--fill-color);\n",
              "    }\n",
              "    40% {\n",
              "      border-color: transparent;\n",
              "      border-right-color: var(--fill-color);\n",
              "      border-top-color: var(--fill-color);\n",
              "    }\n",
              "    60% {\n",
              "      border-color: transparent;\n",
              "      border-right-color: var(--fill-color);\n",
              "    }\n",
              "    80% {\n",
              "      border-color: transparent;\n",
              "      border-right-color: var(--fill-color);\n",
              "      border-bottom-color: var(--fill-color);\n",
              "    }\n",
              "    90% {\n",
              "      border-color: transparent;\n",
              "      border-bottom-color: var(--fill-color);\n",
              "    }\n",
              "  }\n",
              "</style>\n",
              "\n",
              "  <script>\n",
              "    async function quickchart(key) {\n",
              "      const quickchartButtonEl =\n",
              "        document.querySelector('#' + key + ' button');\n",
              "      quickchartButtonEl.disabled = true;  // To prevent multiple clicks.\n",
              "      quickchartButtonEl.classList.add('colab-df-spinner');\n",
              "      try {\n",
              "        const charts = await google.colab.kernel.invokeFunction(\n",
              "            'suggestCharts', [key], {});\n",
              "      } catch (error) {\n",
              "        console.error('Error during call to suggestCharts:', error);\n",
              "      }\n",
              "      quickchartButtonEl.classList.remove('colab-df-spinner');\n",
              "      quickchartButtonEl.classList.add('colab-df-quickchart-complete');\n",
              "    }\n",
              "    (() => {\n",
              "      let quickchartButtonEl =\n",
              "        document.querySelector('#df-66336880-14bf-4ab1-861a-5acd59ce5142 button');\n",
              "      quickchartButtonEl.style.display =\n",
              "        google.colab.kernel.accessAllowed ? 'block' : 'none';\n",
              "    })();\n",
              "  </script>\n",
              "</div>\n",
              "\n",
              "    </div>\n",
              "  </div>\n"
            ],
            "application/vnd.google.colaboratory.intrinsic+json": {
              "type": "dataframe",
              "summary": "{\n  \"name\": \"df\",\n  \"rows\": 8,\n  \"fields\": [\n    {\n      \"column\": \"id\",\n      \"properties\": {\n        \"dtype\": \"number\",\n        \"std\": 327.6903582126744,\n        \"min\": 1.0,\n        \"max\": 920.0,\n        \"num_unique_values\": 8,\n        \"samples\": [\n          461.1287458379578,\n          460.0,\n          901.0\n        ],\n        \"semantic_type\": \"\",\n        \"description\": \"\"\n      }\n    },\n    {\n      \"column\": \"age\",\n      \"properties\": {\n        \"dtype\": \"number\",\n        \"std\": 302.63003756872826,\n        \"min\": 9.447941754881093,\n        \"max\": 901.0,\n        \"num_unique_values\": 8,\n        \"samples\": [\n          53.497225305216425,\n          54.0,\n          901.0\n        ],\n        \"semantic_type\": \"\",\n        \"description\": \"\"\n      }\n    },\n    {\n      \"column\": \"trestbps\",\n      \"properties\": {\n        \"dtype\": \"number\",\n        \"std\": 282.26249729694223,\n        \"min\": 17.04576923636162,\n        \"max\": 901.0,\n        \"num_unique_values\": 8,\n        \"samples\": [\n          131.61931187569368,\n          130.0,\n          901.0\n        ],\n        \"semantic_type\": \"\",\n        \"description\": \"\"\n      }\n    },\n    {\n      \"column\": \"chol\",\n      \"properties\": {\n        \"dtype\": \"number\",\n        \"std\": 284.84054836244417,\n        \"min\": 0.0,\n        \"max\": 901.0,\n        \"num_unique_values\": 8,\n        \"samples\": [\n          199.1398446170921,\n          223.0,\n          901.0\n        ],\n        \"semantic_type\": \"\",\n        \"description\": \"\"\n      }\n    },\n    {\n      \"column\": \"thalch\",\n      \"properties\": {\n        \"dtype\": \"number\",\n        \"std\": 281.3153942739348,\n        \"min\": 25.02961605009638,\n        \"max\": 901.0,\n        \"num_unique_values\": 8,\n        \"samples\": [\n          137.81908990011098,\n          140.0,\n          901.0\n        ],\n        \"semantic_type\": \"\",\n        \"description\": \"\"\n      }\n    },\n    {\n      \"column\": \"oldpeak\",\n      \"properties\": {\n        \"dtype\": \"number\",\n        \"std\": 318.26176813783917,\n        \"min\": -2.0,\n        \"max\": 901.0,\n        \"num_unique_values\": 8,\n        \"samples\": [\n          0.8267480577136516,\n          0.5,\n          901.0\n        ],\n        \"semantic_type\": \"\",\n        \"description\": \"\"\n      }\n    },\n    {\n      \"column\": \"num\",\n      \"properties\": {\n        \"dtype\": \"number\",\n        \"std\": 318.0942535989695,\n        \"min\": 0.0,\n        \"max\": 901.0,\n        \"num_unique_values\": 7,\n        \"samples\": [\n          901.0,\n          0.9755826859045506,\n          2.0\n        ],\n        \"semantic_type\": \"\",\n        \"description\": \"\"\n      }\n    }\n  ]\n}"
            }
          },
          "metadata": {},
          "execution_count": 455
        }
      ]
    },
    {
      "cell_type": "code",
      "source": [],
      "metadata": {
        "id": "RACmp5tTawI9"
      },
      "execution_count": null,
      "outputs": []
    },
    {
      "cell_type": "markdown",
      "source": [
        "#Observations:\n",
        "\n",
        "##According to this dataset:\n",
        "\n",
        "###1.minimum age for heart disease is 28.\n",
        "###2.Average age of heart disease patients is 53.5\n",
        "###3.75 percent of heart patients have age greater than 47.\n",
        "###4.Maximum heart rate achieved(thalch) start from 60 and end at 202.\n",
        "###5.Between 25-50 percent of people, most of the people did not had any heart disease.\n",
        "\n",
        "\n",
        "\n",
        "\n",
        "\n"
      ],
      "metadata": {
        "id": "UT3n2-J-WxXV"
      }
    },
    {
      "cell_type": "markdown",
      "source": [
        "OBSERVATIONS FROM SUMMARY STATISTICS\n",
        "--------------------------------------------------\n",
        "1. There are no heart diseases found in the 25% of the patients with an average of age 47.0.\n",
        "2. There is mild presence of heart diseases found in the 50% of the patients with an average of age 54.0.\n",
        "3. There is moderate presence of heart diseases found in the 75% of the patients with an average of age 60.0 or more."
      ],
      "metadata": {
        "id": "UBXkYnMKZqKf"
      }
    },
    {
      "cell_type": "code",
      "source": [
        "# Checking for duplicates\n",
        "df.duplicated().sum()"
      ],
      "metadata": {
        "colab": {
          "base_uri": "https://localhost:8080/"
        },
        "id": "bU9yt5CBW2nh",
        "outputId": "40e6dcf0-fc70-4d35-eef0-320a2a18eb4e"
      },
      "execution_count": null,
      "outputs": [
        {
          "output_type": "execute_result",
          "data": {
            "text/plain": [
              "0"
            ]
          },
          "metadata": {},
          "execution_count": 456
        }
      ]
    },
    {
      "cell_type": "code",
      "source": [
        "df.fillna(\"Missing\", inplace = True)"
      ],
      "metadata": {
        "id": "NAnwoLEY_41B"
      },
      "execution_count": null,
      "outputs": []
    },
    {
      "cell_type": "markdown",
      "source": [
        "#Let's see visual representation of age column"
      ],
      "metadata": {
        "id": "nscoa63JddUc"
      }
    },
    {
      "cell_type": "code",
      "source": [
        "# for normality check,,,# Draw a histogram to visualize the distribution of the age column\n",
        "sns.histplot(data=df['age'],kde=True)"
      ],
      "metadata": {
        "colab": {
          "base_uri": "https://localhost:8080/",
          "height": 466
        },
        "id": "-3nGvoorYDRb",
        "outputId": "8944e376-504a-4081-94b5-d77740eaedd0"
      },
      "execution_count": null,
      "outputs": [
        {
          "output_type": "execute_result",
          "data": {
            "text/plain": [
              "<Axes: xlabel='age', ylabel='Count'>"
            ]
          },
          "metadata": {},
          "execution_count": 458
        },
        {
          "output_type": "display_data",
          "data": {
            "text/plain": [
              "<Figure size 640x480 with 1 Axes>"
            ],
            "image/png": "[encoded data removed]"
          },
          "metadata": {}
        }
      ]
    },
    {
      "cell_type": "markdown",
      "source": [],
      "metadata": {
        "id": "Bbu_0fv0db1Z"
      }
    },
    {
      "cell_type": "code",
      "source": [
        "# Plot the mean, median and mode of each column using sns\n",
        "sns.histplot(df[\"age\"], kde=True)\n",
        "plt.axvline(df[\"age\"].mean(), color=\"r\")\n",
        "plt.axvline(df[\"age\"].median(), color=\"g\")\n",
        "plt.axvline(df[\"age\"].mode()[0], color=\"b\")\n",
        "\n",
        "\n",
        "# Print the mean, median and mode of each column\n",
        "print(\"Mean:\", df[\"age\"].mean())\n",
        "print(\"Median:\", df[\"age\"].median())\n",
        "print(\"Mode:\", df[\"age\"].mode()[0])\n"
      ],
      "metadata": {
        "colab": {
          "base_uri": "https://localhost:8080/",
          "height": 501
        },
        "id": "vZ1VGOxEYnml",
        "outputId": "ade2a64a-a6d2-43c2-cc9c-f4bb3676eab5"
      },
      "execution_count": null,
      "outputs": [
        {
          "output_type": "stream",
          "name": "stdout",
          "text": [
            "Mean: 53.497225305216425\n",
            "Median: 54.0\n",
            "Mode: 54\n"
          ]
        },
        {
          "output_type": "display_data",
          "data": {
            "text/plain": [
              "<Figure size 640x480 with 1 Axes>"
            ],
            "image/png": "[encoded data removed]"
          },
          "metadata": {}
        }
      ]
    },
    {
      "cell_type": "markdown",
      "source": [
        "Exploring `sex` (Male/Female) Feature"
      ],
      "metadata": {
        "id": "E3Gl5Gp8eo-_"
      }
    },
    {
      "cell_type": "code",
      "source": [
        "# find the count of male and female in sex column\n",
        "df[\"sex\"].value_counts()"
      ],
      "metadata": {
        "colab": {
          "base_uri": "https://localhost:8080/",
          "height": 178
        },
        "id": "uXo7wdyScpaj",
        "outputId": "00501377-81b9-4967-9479-f3f4901c9ccd"
      },
      "execution_count": null,
      "outputs": [
        {
          "output_type": "execute_result",
          "data": {
            "text/plain": [
              "sex\n",
              "Male      711\n",
              "Female    190\n",
              "Name: count, dtype: int64"
            ],
            "text/html": [
              "<div>\n",
              "<style scoped>\n",
              "    .dataframe tbody tr th:only-of-type {\n",
              "        vertical-align: middle;\n",
              "    }\n",
              "\n",
              "    .dataframe tbody tr th {\n",
              "        vertical-align: top;\n",
              "    }\n",
              "\n",
              "    .dataframe thead th {\n",
              "        text-align: right;\n",
              "    }\n",
              "</style>\n",
              "<table border=\"1\" class=\"dataframe\">\n",
              "  <thead>\n",
              "    <tr style=\"text-align: right;\">\n",
              "      <th></th>\n",
              "      <th>count</th>\n",
              "    </tr>\n",
              "    <tr>\n",
              "      <th>sex</th>\n",
              "      <th></th>\n",
              "    </tr>\n",
              "  </thead>\n",
              "  <tbody>\n",
              "    <tr>\n",
              "      <th>Male</th>\n",
              "      <td>711</td>\n",
              "    </tr>\n",
              "    <tr>\n",
              "      <th>Female</th>\n",
              "      <td>190</td>\n",
              "    </tr>\n",
              "  </tbody>\n",
              "</table>\n",
              "</div><br><label><b>dtype:</b> int64</label>"
            ]
          },
          "metadata": {},
          "execution_count": 460
        }
      ]
    },
    {
      "cell_type": "markdown",
      "source": [
        "##Scaling"
      ],
      "metadata": {
        "id": "mhfB6J9tCtP-"
      }
    },
    {
      "cell_type": "code",
      "source": [
        "columns_to_scale = ['oldpeak', 'thalch', 'chol', 'trestbps', 'age']\n",
        "min_max_scalers = {}\n",
        "\n",
        "for col in columns_to_scale:\n",
        "    # Create a new MinMaxScaler for the column\n",
        "    scaler = MinMaxScaler()\n",
        "\n",
        "    # Fit and transform the data\n",
        "    df[col] = scaler.fit_transform(df[[col]])\n",
        "\n",
        "    # Store the scaler in the dictionary\n",
        "    min_max_scalers[col] = scaler\n"
      ],
      "metadata": {
        "id": "CVoX7MIm92Xa"
      },
      "execution_count": null,
      "outputs": []
    },
    {
      "cell_type": "markdown",
      "source": [
        "##label encoder"
      ],
      "metadata": {
        "id": "3YKeaJf3yGS8"
      }
    },
    {
      "cell_type": "code",
      "source": [
        "#  # apply labelencoder on categorical column\n",
        "for col in df.columns:\n",
        "      if df[col].dtype == \"category\" or df[col].dtype == \"object\":\n",
        "          df[col] =LabelEncoder().fit_transform(df[col])\n",
        "      else:\n",
        "          pass"
      ],
      "metadata": {
        "id": "FbTB0R6uqPRv"
      },
      "execution_count": null,
      "outputs": []
    },
    {
      "cell_type": "code",
      "source": [
        "# split data into X and y\n",
        "X = df.drop('num', axis=1)\n",
        "X = (X - X.min()) / (X.max() - X.min())\n",
        "y = df['num']\n"
      ],
      "metadata": {
        "id": "fylrNDWAey8f"
      },
      "execution_count": null,
      "outputs": []
    },
    {
      "cell_type": "code",
      "source": [
        " #data into train and split\n",
        "X_train, X_test, y_train, y_test = train_test_split(X, y, test_size=0.2, random_state=42)"
      ],
      "metadata": {
        "id": "aybodqzXHdle"
      },
      "execution_count": null,
      "outputs": []
    },
    {
      "cell_type": "markdown",
      "source": [
        "##KNN"
      ],
      "metadata": {
        "id": "D90oHt-6Py35"
      }
    },
    {
      "cell_type": "code",
      "source": [
        "# Check the shapes\n",
        "print(X_train.shape)  # Should output (630, n_features) if the number of samples is 630\n",
        "print(len(y_train))   # Should output 630\n"
      ],
      "metadata": {
        "colab": {
          "base_uri": "https://localhost:8080/"
        },
        "id": "7tP3LdhO2AoL",
        "outputId": "11648703-7c7d-429e-81ab-60e936c27b24"
      },
      "execution_count": null,
      "outputs": [
        {
          "output_type": "stream",
          "name": "stdout",
          "text": [
            "(720, 12)\n",
            "720\n"
          ]
        }
      ]
    },
    {
      "cell_type": "code",
      "source": [
        "# model = KNeighborsClassifier(n_neighbors=5)\n",
        "knn = KNeighborsClassifier(n_neighbors=5, weights=\"distance\")\n",
        "knn.fit(X_train, y_train)\n",
        "\n",
        "yhat_train = knn.predict(X_train)\n",
        "yhat_test = knn.predict(X_test)\n",
        "\n",
        "print(\"Train evaluation:\")\n",
        "print(accuracy_score(y_train, yhat_train))\n",
        "print(\"Test evaluation:\")\n",
        "print(accuracy_score(y_test, yhat_test))"
      ],
      "metadata": {
        "colab": {
          "base_uri": "https://localhost:8080/"
        },
        "id": "OLDqH4Njf2lP",
        "outputId": "31f1a776-95d2-4a31-8480-44f5e32f2e94"
      },
      "execution_count": null,
      "outputs": [
        {
          "output_type": "stream",
          "name": "stdout",
          "text": [
            "Train evaluation:\n",
            "1.0\n",
            "Test evaluation:\n",
            "0.6187845303867403\n"
          ]
        }
      ]
    },
    {
      "cell_type": "code",
      "source": [
        "## user defined function\n",
        "## user defined function\n",
        "# Function to calculate and print quality metrics\n",
        "def quality_metrics(y_test, y_pred):\n",
        "    accuracy = accuracy_score(y_test, y_pred)\n",
        "    precision = precision_score(y_test, y_pred, average='macro')  # Use 'macro' or 'weighted' for multiclass\n",
        "    recall = recall_score(y_test, y_pred, average='macro')\n",
        "    f1 = f1_score(y_test, y_pred, average='macro')\n",
        "\n",
        "    print(f\"Accuracy: {accuracy}\")\n",
        "    print(f\"Precision: {precision}\")\n",
        "    print(f\"Recall: {recall}\")\n",
        "    print(f\"F1 Score: {f1}\")\n"
      ],
      "metadata": {
        "id": "cEl054LkNETQ"
      },
      "execution_count": null,
      "outputs": []
    },
    {
      "cell_type": "code",
      "source": [
        "#from sklearn.neighbors import KNeighborsClassifier ## If your target is categorical.\n",
        "#from sklearn.neighbors import KNeighborsRegressor ## If your target is continuous"
      ],
      "metadata": {
        "id": "nXOsj3Trt9Ih"
      },
      "execution_count": null,
      "outputs": []
    },
    {
      "cell_type": "code",
      "source": [
        "#setting 2\n",
        "# Define  model\n",
        "knn = KNeighborsClassifier(n_neighbors=4, weights='distance')\n",
        "# Fit the model\n",
        "knn.fit(X_train, y_train)\n",
        "# Predict the test set\n",
        "y_pred = knn.predict(X_test)\n",
        "# Evaluate the model\n",
        "quality_metrics(y_test, y_pred)"
      ],
      "metadata": {
        "colab": {
          "base_uri": "https://localhost:8080/"
        },
        "id": "_YxhSEzO4cZK",
        "outputId": "9ec96a65-f7a5-4e72-a6a0-93ddcce2c2b2"
      },
      "execution_count": null,
      "outputs": [
        {
          "output_type": "stream",
          "name": "stdout",
          "text": [
            "Accuracy: 0.6022099447513812\n",
            "Precision: 0.33764059196617335\n",
            "Recall: 0.3300169950852051\n",
            "F1 Score: 0.3279990935366189\n"
          ]
        }
      ]
    },
    {
      "cell_type": "code",
      "source": [
        "# Configuration 3\n",
        "knn2 = KNeighborsClassifier(n_neighbors=5, p=2, weights='distance')\n",
        "knn2.fit(X_train, y_train)\n",
        "y_pred_knn = knn2.predict(X_test)\n",
        "accuracy2 = quality_metrics(y_test, y_pred_knn)"
      ],
      "metadata": {
        "colab": {
          "base_uri": "https://localhost:8080/"
        },
        "id": "rUKlCzXJSlof",
        "outputId": "1c9a8440-024a-477a-e217-a8db080cd5b3"
      },
      "execution_count": null,
      "outputs": [
        {
          "output_type": "stream",
          "name": "stdout",
          "text": [
            "Accuracy: 0.6187845303867403\n",
            "Precision: 0.3591245193729666\n",
            "Recall: 0.35657985393413255\n",
            "F1 Score: 0.3526984126984127\n"
          ]
        }
      ]
    },
    {
      "cell_type": "code",
      "source": [
        "## changing values of n-neigbours in KNN from 1 to 10 and print accuracy\n",
        "acc = []\n",
        "for i in range(1,11):\n",
        "  knn = KNeighborsClassifier(n_neighbors = i)\n",
        "  knn.fit(X_train, y_train)\n",
        "  y_pred = knn.predict(X_test)\n",
        "  print(\"number of neigbours:\", i)\n",
        "  # simply take accuray\n",
        "  acc.append(quality_metrics(y_test, y_pred))\n",
        "  #print(\"Accuracy:\", quality_metrics(y_test, y_pred_knn))\n",
        "  print(\"\\n\" + \"=\"*60 + \"\\n\")"
      ],
      "metadata": {
        "colab": {
          "base_uri": "https://localhost:8080/"
        },
        "id": "371LixHlTT9r",
        "outputId": "4036e58d-f385-423e-b353-485ac5dfe04b"
      },
      "execution_count": null,
      "outputs": [
        {
          "output_type": "stream",
          "name": "stdout",
          "text": [
            "number of neigbours: 1\n",
            "Accuracy: 0.5193370165745856\n",
            "Precision: 0.31934720522235827\n",
            "Recall: 0.33433696201368795\n",
            "F1 Score: 0.3187239217262977\n",
            "\n",
            "============================================================\n",
            "\n",
            "number of neigbours: 2\n",
            "Accuracy: 0.569060773480663\n",
            "Precision: 0.32832015810276677\n",
            "Recall: 0.3183500987552249\n",
            "F1 Score: 0.3131832945240962\n",
            "\n",
            "============================================================\n",
            "\n",
            "number of neigbours: 3\n",
            "Accuracy: 0.6077348066298343\n",
            "Precision: 0.3084920634920635\n",
            "Recall: 0.3189150705066373\n",
            "F1 Score: 0.3075184926847331\n",
            "\n",
            "============================================================\n",
            "\n",
            "number of neigbours: 4\n",
            "Accuracy: 0.6077348066298343\n",
            "Precision: 0.3456832820963256\n",
            "Recall: 0.3411281061963162\n",
            "F1 Score: 0.33676503632305915\n",
            "\n",
            "============================================================\n",
            "\n",
            "number of neigbours: 5\n",
            "Accuracy: 0.6464088397790055\n",
            "Precision: 0.3697499264489556\n",
            "Recall: 0.3648569197556383\n",
            "F1 Score: 0.36137931034482756\n",
            "\n",
            "============================================================\n",
            "\n",
            "number of neigbours: 6\n",
            "Accuracy: 0.6077348066298343\n",
            "Precision: 0.35355144363993923\n",
            "Recall: 0.34017730007808555\n",
            "F1 Score: 0.3363442742083519\n",
            "\n",
            "============================================================\n",
            "\n",
            "number of neigbours: 7\n",
            "Accuracy: 0.5966850828729282\n",
            "Precision: 0.33507092198581556\n",
            "Recall: 0.33434844517936707\n",
            "F1 Score: 0.3266713017812831\n",
            "\n",
            "============================================================\n",
            "\n",
            "number of neigbours: 8\n",
            "Accuracy: 0.580110497237569\n",
            "Precision: 0.3138857782754759\n",
            "Recall: 0.31740847916953746\n",
            "F1 Score: 0.3079733025285586\n",
            "\n",
            "============================================================\n",
            "\n",
            "number of neigbours: 9\n",
            "Accuracy: 0.574585635359116\n",
            "Precision: 0.29235588972431076\n",
            "Recall: 0.30629736805842633\n",
            "F1 Score: 0.29268329554043837\n",
            "\n",
            "============================================================\n",
            "\n",
            "number of neigbours: 10\n",
            "Accuracy: 0.5580110497237569\n",
            "Precision: 0.27731029701914356\n",
            "Recall: 0.29612787653300265\n",
            "F1 Score: 0.2808192144782441\n",
            "\n",
            "============================================================\n",
            "\n"
          ]
        }
      ]
    },
    {
      "cell_type": "markdown",
      "source": [
        "##Decision tree"
      ],
      "metadata": {
        "id": "jAfEpOdcPpBK"
      }
    },
    {
      "cell_type": "code",
      "source": [
        "\n",
        "# Initialize the Decision Tree classifier\n",
        "dtree = DecisionTreeClassifier(random_state=42)\n",
        "# Fit the model on the training data\n",
        "dtree.fit(X_train, y_train)\n",
        "# Predict on the test data\n",
        "y_pred = dtree.predict(X_test)\n",
        "# Evaluate the model\n",
        "quality_metrics(y_test, y_pred)"
      ],
      "metadata": {
        "colab": {
          "base_uri": "https://localhost:8080/"
        },
        "id": "KOYzvJ58uCNN",
        "outputId": "2b7e77d8-7016-4b1c-ce12-597a8cb8b054"
      },
      "execution_count": null,
      "outputs": [
        {
          "output_type": "stream",
          "name": "stdout",
          "text": [
            "Accuracy: 0.6022099447513812\n",
            "Precision: 0.39336364784640643\n",
            "Recall: 0.4064466492122548\n",
            "F1 Score: 0.39593494006449476\n"
          ]
        }
      ]
    },
    {
      "cell_type": "code",
      "source": [
        "# Initialize the Decision Tree classifier\n",
        "dtree = DecisionTreeClassifier(random_state=42)\n",
        "dtree = DecisionTreeClassifier(max_depth=4, criterion='entropy')\n",
        "# Fit the model on the training data\n",
        "dtree.fit(X_train, y_train)\n",
        "\n",
        "# Predict on the test data\n",
        "y_pred_dt = dtree.predict(X_test)\n",
        "quality_metrics(y_test,y_pred_dt)"
      ],
      "metadata": {
        "colab": {
          "base_uri": "https://localhost:8080/"
        },
        "id": "vSvqGwX1RXqt",
        "outputId": "dc7e30ee-4f4f-4c5b-83ad-def4894f4a36"
      },
      "execution_count": null,
      "outputs": [
        {
          "output_type": "stream",
          "name": "stdout",
          "text": [
            "Accuracy: 0.6740331491712708\n",
            "Precision: 0.40164447479230675\n",
            "Recall: 0.3953470212668228\n",
            "F1 Score: 0.3843020367610531\n"
          ]
        }
      ]
    },
    {
      "cell_type": "code",
      "source": [
        "# Initialize the Decision Tree classifier\n",
        "dtree = DecisionTreeClassifier(random_state=42)\n",
        "dtree = DecisionTreeClassifier(max_depth=4)\n",
        "# Fit the model on the training data\n",
        "dtree.fit(X_train, y_train)\n",
        "\n",
        "# Predict on the test data\n",
        "y_pred_dtt = dtree.predict(X_test)\n",
        "quality_metrics(y_test,y_pred_dtt)"
      ],
      "metadata": {
        "colab": {
          "base_uri": "https://localhost:8080/"
        },
        "id": "vmtf1cbZjRdG",
        "outputId": "ef7333b6-745f-42df-b43c-41c04371218b"
      },
      "execution_count": null,
      "outputs": [
        {
          "output_type": "stream",
          "name": "stdout",
          "text": [
            "Accuracy: 0.6850828729281768\n",
            "Precision: 0.3542424242424243\n",
            "Recall: 0.402126682283772\n",
            "F1 Score: 0.3766356229556943\n"
          ]
        }
      ]
    },
    {
      "cell_type": "code",
      "source": [
        "from sklearn.metrics import classification_report\n",
        "for depth in range(3, 8):\n",
        "    # Create the model with the specified max_depth\n",
        "    dtree= DecisionTreeClassifier(max_depth=depth, random_state=42)\n",
        "    dtree.fit(X_train, y_train)\n",
        "\n",
        "    # Predict on the test set\n",
        "    y_pred_dt = dtree.predict(X_test)\n",
        "\n",
        "    # Calculate and print the metrics\n",
        "    accuracy = accuracy_score(y_test, y_pred_dt)\n",
        "    conf_matrix = confusion_matrix(y_test, y_pred_dt)\n",
        "    class_report = classification_report(y_test, y_pred_dt)\n",
        "\n",
        "    print(f\"Model with Depth {depth}\")\n",
        "    print(f\"Accuracy: {accuracy}\")\n",
        "    print(f\"Confusion Matrix:\\n{conf_matrix}\")\n",
        "    print(f\"Classification Report:\\n{class_report}\")\n",
        "\n",
        "    print(\"\\n\" + \"=\"*60 + \"\\n\")"
      ],
      "metadata": {
        "colab": {
          "base_uri": "https://localhost:8080/"
        },
        "id": "qUIjqdyVZAnm",
        "outputId": "c849ad61-d191-492b-b26d-e32f7d3ab9f4"
      },
      "execution_count": null,
      "outputs": [
        {
          "output_type": "stream",
          "name": "stdout",
          "text": [
            "Model with Depth 3\n",
            "Accuracy: 0.6464088397790055\n",
            "Confusion Matrix:\n",
            "[[78  4  0  0  0]\n",
            " [20 39  0  0  0]\n",
            " [ 9  9  0  0  0]\n",
            " [ 8 10  0  0  0]\n",
            " [ 2  2  0  0  0]]\n",
            "Classification Report:\n",
            "              precision    recall  f1-score   support\n",
            "\n",
            "           0       0.67      0.95      0.78        82\n",
            "           1       0.61      0.66      0.63        59\n",
            "           2       0.00      0.00      0.00        18\n",
            "           3       0.00      0.00      0.00        18\n",
            "           4       0.00      0.00      0.00         4\n",
            "\n",
            "    accuracy                           0.65       181\n",
            "   macro avg       0.26      0.32      0.28       181\n",
            "weighted avg       0.50      0.65      0.56       181\n",
            "\n",
            "\n",
            "============================================================\n",
            "\n",
            "Model with Depth 4\n",
            "Accuracy: 0.6850828729281768\n",
            "Confusion Matrix:\n",
            "[[76  5  1  0  0]\n",
            " [10 41  8  0  0]\n",
            " [ 2  9  7  0  0]\n",
            " [ 6  9  3  0  0]\n",
            " [ 1  2  1  0  0]]\n",
            "Classification Report:\n",
            "              precision    recall  f1-score   support\n",
            "\n",
            "           0       0.80      0.93      0.86        82\n",
            "           1       0.62      0.69      0.66        59\n",
            "           2       0.35      0.39      0.37        18\n",
            "           3       0.00      0.00      0.00        18\n",
            "           4       0.00      0.00      0.00         4\n",
            "\n",
            "    accuracy                           0.69       181\n",
            "   macro avg       0.35      0.40      0.38       181\n",
            "weighted avg       0.60      0.69      0.64       181\n",
            "\n",
            "\n",
            "============================================================\n",
            "\n",
            "Model with Depth 5\n",
            "Accuracy: 0.6408839779005525\n",
            "Confusion Matrix:\n",
            "[[76  2  1  3  0]\n",
            " [11 30  2 16  0]\n",
            " [ 3  2  2 11  0]\n",
            " [ 7  1  2  8  0]\n",
            " [ 1  1  0  2  0]]\n",
            "Classification Report:\n",
            "              precision    recall  f1-score   support\n",
            "\n",
            "           0       0.78      0.93      0.84        82\n",
            "           1       0.83      0.51      0.63        59\n",
            "           2       0.29      0.11      0.16        18\n",
            "           3       0.20      0.44      0.28        18\n",
            "           4       0.00      0.00      0.00         4\n",
            "\n",
            "    accuracy                           0.64       181\n",
            "   macro avg       0.42      0.40      0.38       181\n",
            "weighted avg       0.67      0.64      0.63       181\n",
            "\n",
            "\n",
            "============================================================\n",
            "\n",
            "Model with Depth 6\n",
            "Accuracy: 0.6685082872928176\n",
            "Confusion Matrix:\n",
            "[[76  5  1  0  0]\n",
            " [10 34  3  9  3]\n",
            " [ 2  4  3  8  1]\n",
            " [ 6  2  2  7  1]\n",
            " [ 0  2  0  1  1]]\n",
            "Classification Report:\n",
            "              precision    recall  f1-score   support\n",
            "\n",
            "           0       0.81      0.93      0.86        82\n",
            "           1       0.72      0.58      0.64        59\n",
            "           2       0.33      0.17      0.22        18\n",
            "           3       0.28      0.39      0.33        18\n",
            "           4       0.17      0.25      0.20         4\n",
            "\n",
            "    accuracy                           0.67       181\n",
            "   macro avg       0.46      0.46      0.45       181\n",
            "weighted avg       0.67      0.67      0.66       181\n",
            "\n",
            "\n",
            "============================================================\n",
            "\n",
            "Model with Depth 7\n",
            "Accuracy: 0.6740331491712708\n",
            "Confusion Matrix:\n",
            "[[74  6  2  0  0]\n",
            " [ 8 40  5  5  1]\n",
            " [ 3  9  2  3  1]\n",
            " [ 6  4  1  5  2]\n",
            " [ 1  2  0  0  1]]\n",
            "Classification Report:\n",
            "              precision    recall  f1-score   support\n",
            "\n",
            "           0       0.80      0.90      0.85        82\n",
            "           1       0.66      0.68      0.67        59\n",
            "           2       0.20      0.11      0.14        18\n",
            "           3       0.38      0.28      0.32        18\n",
            "           4       0.20      0.25      0.22         4\n",
            "\n",
            "    accuracy                           0.67       181\n",
            "   macro avg       0.45      0.44      0.44       181\n",
            "weighted avg       0.64      0.67      0.65       181\n",
            "\n",
            "\n",
            "============================================================\n",
            "\n"
          ]
        }
      ]
    },
    {
      "cell_type": "code",
      "source": [
        "## Checking our baseline accuracy of heart attack\n",
        "y.value_counts(normalize=True)\n"
      ],
      "metadata": {
        "colab": {
          "base_uri": "https://localhost:8080/",
          "height": 272
        },
        "id": "txjAV4NN8d5f",
        "outputId": "97e384a1-c89a-4064-9724-5c03cd2df5a4"
      },
      "execution_count": null,
      "outputs": [
        {
          "output_type": "execute_result",
          "data": {
            "text/plain": [
              "num\n",
              "0    0.452830\n",
              "1    0.287458\n",
              "2    0.119867\n",
              "3    0.110988\n",
              "4    0.028857\n",
              "Name: proportion, dtype: float64"
            ],
            "text/html": [
              "<div>\n",
              "<style scoped>\n",
              "    .dataframe tbody tr th:only-of-type {\n",
              "        vertical-align: middle;\n",
              "    }\n",
              "\n",
              "    .dataframe tbody tr th {\n",
              "        vertical-align: top;\n",
              "    }\n",
              "\n",
              "    .dataframe thead th {\n",
              "        text-align: right;\n",
              "    }\n",
              "</style>\n",
              "<table border=\"1\" class=\"dataframe\">\n",
              "  <thead>\n",
              "    <tr style=\"text-align: right;\">\n",
              "      <th></th>\n",
              "      <th>proportion</th>\n",
              "    </tr>\n",
              "    <tr>\n",
              "      <th>num</th>\n",
              "      <th></th>\n",
              "    </tr>\n",
              "  </thead>\n",
              "  <tbody>\n",
              "    <tr>\n",
              "      <th>0</th>\n",
              "      <td>0.452830</td>\n",
              "    </tr>\n",
              "    <tr>\n",
              "      <th>1</th>\n",
              "      <td>0.287458</td>\n",
              "    </tr>\n",
              "    <tr>\n",
              "      <th>2</th>\n",
              "      <td>0.119867</td>\n",
              "    </tr>\n",
              "    <tr>\n",
              "      <th>3</th>\n",
              "      <td>0.110988</td>\n",
              "    </tr>\n",
              "    <tr>\n",
              "      <th>4</th>\n",
              "      <td>0.028857</td>\n",
              "    </tr>\n",
              "  </tbody>\n",
              "</table>\n",
              "</div><br><label><b>dtype:</b> float64</label>"
            ]
          },
          "metadata": {},
          "execution_count": 475
        }
      ]
    },
    {
      "cell_type": "code",
      "source": [
        "# Evaluate KNN model with 5 neighbour\n",
        "print(\"KNN Model:\")\n",
        "quality_metrics(y_test, y_pred_knn)\n",
        "print(\"\\n\" + \"=\"*60 + \"\\n\")\n",
        "# Evaluate Decision Tree model with 4 neighbour\n",
        "print(\"Decision Tree Model:\")\n",
        "quality_metrics(y_test, y_pred_dtt)\n"
      ],
      "metadata": {
        "id": "7fl-wFGWuyLI",
        "colab": {
          "base_uri": "https://localhost:8080/"
        },
        "outputId": "9debd606-51c7-48e2-f93f-8c833eff69bf"
      },
      "execution_count": null,
      "outputs": [
        {
          "output_type": "stream",
          "name": "stdout",
          "text": [
            "KNN Model:\n",
            "Accuracy: 0.6187845303867403\n",
            "Precision: 0.3591245193729666\n",
            "Recall: 0.35657985393413255\n",
            "F1 Score: 0.3526984126984127\n",
            "\n",
            "============================================================\n",
            "\n",
            "Decision Tree Model:\n",
            "Accuracy: 0.6850828729281768\n",
            "Precision: 0.3542424242424243\n",
            "Recall: 0.402126682283772\n",
            "F1 Score: 0.3766356229556943\n"
          ]
        }
      ]
    },
    {
      "cell_type": "code",
      "source": [],
      "metadata": {
        "id": "EnoKQP2h52u4"
      },
      "execution_count": null,
      "outputs": []
    },
    {
      "cell_type": "code",
      "source": [],
      "metadata": {
        "id": "gGnPdTbw9W9t"
      },
      "execution_count": null,
      "outputs": []
    }
  ]
}